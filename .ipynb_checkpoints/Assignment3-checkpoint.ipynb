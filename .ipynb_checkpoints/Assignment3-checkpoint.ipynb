{
 "cells": [
  {
   "cell_type": "code",
   "execution_count": 94,
   "metadata": {
    "collapsed": true
   },
   "outputs": [],
   "source": [
    "from __future__ import division\n",
    "from hmmlearn import hmm\n",
    "import numpy as np\n",
    "import scipy.io\n",
    "from sklearn.cluster import KMeans\n"
   ]
  },
  {
   "cell_type": "code",
   "execution_count": 95,
   "metadata": {
    "collapsed": false
   },
   "outputs": [],
   "source": [
    "#init HMM parameters\n",
    "piInit = np.array([0.45, 0.55])\n",
    "A = np.array([[0.75, 0.25],\n",
    "             [0.20, 0.80]])\n",
    "B = np.array([[1/6,1/6,1/6,1/6,1/6,1/6],\n",
    "             [5/12,2/12,1/12,1/12,2/12,1/12]])"
   ]
  },
  {
   "cell_type": "code",
   "execution_count": 96,
   "metadata": {
    "collapsed": false
   },
   "outputs": [],
   "source": [
    "def viterbi(pi,A,B,q):\n",
    "    N = pi.shape[0] # number of states\n",
    "    M = B.shape[1] # number of emissions possible\n",
    "    T = q.shape[0] # length of observation sequence\n",
    "    delta = np.zeros((T,N), dtype=np.float) # delta variables\n",
    "    psi = np.zeros((T,N), dtype=int) # backpointers\n",
    "    delta[0,:] = piInit*B[:,q[0][0]]\n",
    "    delMax = np.zeros((N,1))\n",
    "    for t in range(T-1):\n",
    "        for j in range(N):\n",
    "            delMax = np.array([delta[t,k]*A[k,j] for k in range(N)])\n",
    "            psi[t+1,j] = delMax.argmax()\n",
    "            delta[t+1][j] = delMax.max()*B[j, q[t+1][0]]\n",
    "    states = np.zeros((100,), dtype=int)\n",
    "    states[T-1] = delta[-1].argmax()\n",
    "    for i in range(2,T+1):\n",
    "        states[T-i] = psi[T-i+1, states[T-i+1]]\n",
    "#         print T-i+1\n",
    "    return states"
   ]
  },
  {
   "cell_type": "code",
   "execution_count": 97,
   "metadata": {
    "collapsed": false
   },
   "outputs": [],
   "source": [
    "HMM = hmm.MultinomialHMM(n_components=2)\n",
    "HMM.transmat_=A\n",
    "HMM.startprob_=piInit\n",
    "HMM.emissionprob_=B"
   ]
  },
  {
   "cell_type": "code",
   "execution_count": 98,
   "metadata": {
    "collapsed": false
   },
   "outputs": [
    {
     "name": "stdout",
     "output_type": "stream",
     "text": [
      "(100, 1)\n",
      "[1 1 1 1 1 1 1 1 1 1 1 1 1 1 1 1 1 1 1 1 1 1 1 1 1 1 1 1 1 1 1 0 0 0 0 0 0\n",
      " 0 0 0 0 0 1 1 1 1 1 1 1 1 1 1 1 1 1 1 1 1 1 1 1 1 1 1 1 1 1 1 1 1 1 1 1 1\n",
      " 1 1 1 1 1 1 1 1 1 1 1 1 1 1 1 1 1 1 1 1 1 1 1 1 1 1]\n",
      "True\n"
     ]
    }
   ],
   "source": [
    "q = HMM.sample(100)\n",
    "print q[0].shape\n",
    "print HMM.decode(q[0])[1]\n",
    "optimalState = viterbi(piInit,A,B,q[0])\n",
    "print sum(optimalState == HMM.decode(q[0])[1])==100"
   ]
  },
  {
   "cell_type": "markdown",
   "metadata": {
    "collapsed": true
   },
   "source": [
    "# Q1"
   ]
  },
  {
   "cell_type": "code",
   "execution_count": null,
   "metadata": {
    "collapsed": false
   },
   "outputs": [],
   "source": [
    "train = scipy.io.loadmat('data/training.mat')['training']\n",
    "test = scipy.io.loadmat('data/test.mat')['test']\n",
    "X = train\n",
    "k_means = KMeans(n_clusters=3)\n",
    "k_means.fit(train)\n",
    "centers = k_means.cluster_centers_"
   ]
  },
  {
   "cell_type": "code",
   "execution_count": null,
   "metadata": {
    "collapsed": false
   },
   "outputs": [],
   "source": [
    "centers = k_means.cluster_centers_"
   ]
  },
  {
   "cell_type": "code",
   "execution_count": null,
   "metadata": {
    "collapsed": true
   },
   "outputs": [],
   "source": [
    "k_means.predict(test)"
   ]
  }
 ],
 "metadata": {
  "kernelspec": {
   "display_name": "Python 2",
   "language": "python",
   "name": "python2"
  },
  "language_info": {
   "codemirror_mode": {
    "name": "ipython",
    "version": 2
   },
   "file_extension": ".py",
   "mimetype": "text/x-python",
   "name": "python",
   "nbconvert_exporter": "python",
   "pygments_lexer": "ipython2",
   "version": "2.7.11"
  }
 },
 "nbformat": 4,
 "nbformat_minor": 0
}
